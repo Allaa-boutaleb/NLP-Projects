{
 "cells": [
  {
   "cell_type": "code",
   "execution_count": 4,
   "metadata": {},
   "outputs": [],
   "source": [
    "import numpy as np\n",
    "import matplotlib.pyplot as plt\n"
   ]
  },
  {
   "cell_type": "markdown",
   "metadata": {},
   "source": [
    "# A-2: reprocessing & string manipulations \n",
    "\n",
    "1. Understand the examples\n",
    "1. Build a chain where each action can be activated/disactivated\n",
    "\n",
    "If you are not familia with regex, take a look at: https://docs.python.org/3/howto/regex.html\n",
    "\n",
    "**Regex** is probably the most important tool to custom your processing chain!"
   ]
  },
  {
   "cell_type": "code",
   "execution_count": 2,
   "metadata": {},
   "outputs": [
    {
     "name": "stdout",
     "output_type": "stream",
     "text": [
      "Le chat est devant la maison, 9 rue du zoo. Le chien attend à l'intérieur.\n",
      "Son site web préféré est www.spa.fr \n"
     ]
    }
   ],
   "source": [
    "doc = 'Le chat est devant la maison, 9 rue du zoo. Le chien attend à l\\'intérieur.\\nSon site web préféré est www.spa.fr '\n",
    "print(doc)"
   ]
  },
  {
   "cell_type": "code",
   "execution_count": 3,
   "metadata": {},
   "outputs": [
    {
     "name": "stdout",
     "output_type": "stream",
     "text": [
      "Le chat est devant la maison, 9 rue du zoo. Le chien attend à l'intérieur.\n",
      "Son site web préféré est URL \n",
      "Le chat est devant la maison,  rue du zoo. Le chien attend à l'intérieur.\n",
      "Son site web préféré est URL \n"
     ]
    }
   ],
   "source": [
    "import re\n",
    "\n",
    "# replace url by a keywork URL\n",
    "doc = re.sub('(www|http)[\\w\\.-_]+\\.(fr|com|org)', 'URL', doc)  # note: this regex is far from perfect\n",
    "print(doc)\n",
    "# you can add some special token into the document (thus add token into the dictionary)\n",
    "\n",
    "# suppress numbers\n",
    "doc = re.sub('[0-9]+', '', doc) # remplacer une séquence de chiffres par rien\n",
    "print(doc)"
   ]
  },
  {
   "cell_type": "code",
   "execution_count": 5,
   "metadata": {},
   "outputs": [
    {
     "name": "stdout",
     "output_type": "stream",
     "text": [
      "Le chat est devant la maison   rue du zoo  Le chien attend à l intérieur  Son site web préféré est URL \n"
     ]
    }
   ],
   "source": [
    "# retrieving (and suppressing) ponctuation\n",
    "import string\n",
    "\n",
    "punc = string.punctuation  \n",
    "#print(punc)\n",
    "punc += '\\n\\r\\t'\n",
    "#print(punc)\n",
    "doc = doc.translate(str.maketrans(punc, ' ' * len(punc)))  \n",
    "print(doc)"
   ]
  },
  {
   "cell_type": "code",
   "execution_count": 6,
   "metadata": {},
   "outputs": [
    {
     "name": "stdout",
     "output_type": "stream",
     "text": [
      "le chat est devant la maison   rue du zoo  le chien attend a l interieur  son site web prefere est url \n"
     ]
    }
   ],
   "source": [
    "# suppress accent and all non normalized char\n",
    "import unicodedata\n",
    "\n",
    "doc = unicodedata.normalize('NFD', doc).encode('ascii', 'ignore').decode(\"utf-8\")\n",
    "doc = doc.lower()\n",
    "print(doc)"
   ]
  },
  {
   "cell_type": "markdown",
   "metadata": {},
   "source": [
    "# A-3: Bag od Words Model \n",
    "## Tokenization (=String split) & dictionary \n",
    "\n",
    "Let's tokenize !\n",
    "\n",
    "**WARNING** : we use a standard syntax to understand the process... Later, we are going to use advanced build-in functions."
   ]
  },
  {
   "cell_type": "code",
   "execution_count": 9,
   "metadata": {},
   "outputs": [
    {
     "name": "stdout",
     "output_type": "stream",
     "text": [
      "Counter({'le': 2, 'est': 2, 'chat': 1, 'devant': 1, 'la': 1, 'maison': 1, 'rue': 1, 'du': 1, 'zoo': 1, 'chien': 1, 'attend': 1, 'a': 1, 'l': 1, 'interieur': 1, 'son': 1, 'site': 1, 'web': 1, 'prefere': 1, 'url': 1})\n"
     ]
    }
   ],
   "source": [
    "# word list\n",
    "words = doc.split() # optional args to choose the splitting chars\n",
    "\n",
    "# counting\n",
    "from collections import Counter\n",
    "\n",
    "dico = Counter(words)\n",
    "print(dico)"
   ]
  },
  {
   "cell_type": "code",
   "execution_count": 10,
   "metadata": {},
   "outputs": [
    {
     "name": "stdout",
     "output_type": "stream",
     "text": [
      "{'le': 0, 'chat': 1, 'est': 2, 'devant': 3, 'la': 4, 'maison': 5, 'rue': 6, 'du': 7, 'zoo': 8, 'chien': 9, 'attend': 10, 'a': 11, 'l': 12, 'interieur': 13, 'son': 14, 'site': 15, 'web': 16, 'prefere': 17, 'url': 18}\n",
      "index of word chat: 1\n"
     ]
    }
   ],
   "source": [
    "# dictionary = mapping function : word => index of the word in the dictionary\n",
    "\n",
    "trans = dict(zip(list(dico.keys()), np.arange(len(dico)).tolist()))\n",
    "print(trans)\n",
    "\n",
    "# test\n",
    "print('index of word chat:',trans['chat'])"
   ]
  },
  {
   "cell_type": "code",
   "execution_count": 11,
   "metadata": {},
   "outputs": [
    {
     "name": "stdout",
     "output_type": "stream",
     "text": [
      "[2. 1. 2. 1. 1. 1. 1. 1. 1. 1. 1. 1. 1. 1. 1. 1. 1. 1. 1.]\n"
     ]
    }
   ],
   "source": [
    "# Building the vector associated to the sentence\n",
    "\n",
    "d = np.zeros(len(trans))\n",
    "for m in words:\n",
    "    d[trans[m]] += 1\n",
    "    \n",
    "print(d)\n"
   ]
  },
  {
   "cell_type": "code",
   "execution_count": 12,
   "metadata": {},
   "outputs": [
    {
     "name": "stdout",
     "output_type": "stream",
     "text": [
      "  (0, 0)\t2.0\n",
      "  (0, 1)\t1.0\n",
      "  (0, 2)\t2.0\n",
      "  (0, 3)\t1.0\n",
      "  (0, 4)\t1.0\n",
      "  (0, 5)\t1.0\n",
      "  (0, 6)\t1.0\n",
      "  (0, 7)\t1.0\n",
      "  (0, 8)\t1.0\n",
      "  (0, 9)\t1.0\n",
      "  (0, 10)\t1.0\n",
      "  (0, 11)\t1.0\n",
      "  (0, 12)\t1.0\n",
      "  (0, 13)\t1.0\n",
      "  (0, 14)\t1.0\n",
      "  (0, 15)\t1.0\n",
      "  (0, 16)\t1.0\n",
      "  (0, 17)\t1.0\n",
      "  (0, 18)\t1.0\n"
     ]
    }
   ],
   "source": [
    "# switching to a sparse matrix to save some space\n",
    "from scipy.sparse import coo_matrix\n",
    "\n",
    "ds = coo_matrix(d)\n",
    "\n",
    "print(ds)   # obviously, the current vector is full of data\n",
    "            # in the future with real data, vectors will be full of 0!"
   ]
  },
  {
   "cell_type": "markdown",
   "metadata": {},
   "source": [
    "# Advanced framwork to compute bag of words \n",
    "\n",
    "The function ```sklearn.feature_extraction.text.CountVectorizer``` can perform all previous steps... And much more through (many) optional arguments\n",
    "\n",
    "1. Documentation <a href=\"https://scikit-learn.org/stable/modules/generated/sklearn.feature_extraction.text.CountVectorizer.html\"> link </a>\n",
    "    - test on toy data\n",
    "    - check your ability to exploit the dictionary \n",
    "        - retrieve the index of a word\n",
    "        - retrieve the word corresponding to an index\n",
    "    - check the filtering options (rare words etc)\n",
    "\n",
    "1. Try to extract N-grams (bigram and trigram) (cf documentation)\n",
    "\n",
    "1. it is critical to distinguish dictionary building and dictionary exploitation. (1) At the pre-processing step, we increase the vocabulary size and filter useless words... (2) The training step consists in finding the coefficients associated with each word. (3) In the inference step, the dictionary should be fixed (otherwise, the coefficients become meaningless).\n",
    "    - split your dataset into two parts\n",
    "    - constituer le dictionnaire sur les données d'apprentissage\n",
    "    - appliquer sur les données de test et vérifier que les indices d'un même mot sont bien identiques entre l'apprentissage et le test.\n",
    "    \n",
    "**WARNING** do not confuse *fit_transform* = building + use with *transform* (use only, dictionary fixed). "
   ]
  },
  {
   "cell_type": "code",
   "execution_count": 14,
   "metadata": {},
   "outputs": [
    {
     "name": "stdout",
     "output_type": "stream",
     "text": [
      "['and' 'document' 'first' 'is' 'one' 'second' 'the' 'third' 'this']\n",
      "[[0 1 1 1 0 0 1 0 1]\n",
      " [0 2 0 1 0 1 1 0 1]\n",
      " [1 0 0 1 1 0 1 1 1]\n",
      " [0 1 1 1 0 0 1 0 1]]\n"
     ]
    }
   ],
   "source": [
    "from sklearn.feature_extraction.text import CountVectorizer\n",
    "\n",
    "corpus = [\\\n",
    "     'This is the first document.',\\\n",
    "     'This document is the second document.',\\\n",
    "     'And this is the third one.',\\\n",
    "     'Is this the first document?',\\\n",
    " ]\n",
    "vectorizer = CountVectorizer()\n",
    "X = vectorizer.fit_transform(corpus) # Output is a sparse matrix\n",
    "print(vectorizer.get_feature_names_out())\n",
    "\n",
    "print(X.toarray()) # Convert to numpy array"
   ]
  },
  {
   "cell_type": "code",
   "execution_count": 18,
   "metadata": {},
   "outputs": [
    {
     "name": "stdout",
     "output_type": "stream",
     "text": [
      "['and this' 'document is' 'first document' 'is the' 'is this'\n",
      " 'second document' 'the first' 'the second' 'the third' 'third one'\n",
      " 'this document' 'this is' 'this the']\n",
      "[[0 0 1 1 0 0 1 0 0 0 0 1 0]\n",
      " [0 1 0 1 0 1 0 1 0 0 1 0 0]\n",
      " [1 0 0 1 0 0 0 0 1 1 0 1 0]\n",
      " [0 0 1 0 1 0 1 0 0 0 0 0 1]]\n"
     ]
    }
   ],
   "source": [
    "vectorizer2 = CountVectorizer(analyzer='word', ngram_range=(2, 2))\n",
    "X2 = vectorizer2.fit_transform(corpus)\n",
    "print(vectorizer2.get_feature_names_out())\n",
    "print(X2.toarray())"
   ]
  },
  {
   "cell_type": "markdown",
   "metadata": {},
   "source": [
    "# Tutorial on classifiers\n",
    "\n",
    "scikit learn is object oriented: that means you will be able to switch easily from one classifer to another. "
   ]
  },
  {
   "cell_type": "code",
   "execution_count": 21,
   "metadata": {},
   "outputs": [
    {
     "name": "stdout",
     "output_type": "stream",
     "text": [
      "prediction: [1]\n",
      "classifier: [[1.39123938 1.43231466]]\n"
     ]
    }
   ],
   "source": [
    "import numpy as np\n",
    "import sklearn.naive_bayes as nb\n",
    "from sklearn import svm\n",
    "from sklearn import linear_model as lin\n",
    "\n",
    "# very basic data (once understood, use textual corpus instead)\n",
    "N = 100\n",
    "X = np.random.randn(N,2)\n",
    "X[:int(N/2), :] += 2\n",
    "X[int(N/2):, :] -= 2\n",
    "y = np.array([1]*int(N/2) + [-1]*int(N/2))\n",
    "\n",
    "# Linear SVM \n",
    "clf = svm.LinearSVC()\n",
    "# Naive Bayes\n",
    "clf = nb.MultinomialNB()\n",
    "# logistic regression\n",
    "clf = lin.LogisticRegression()\n",
    "\n",
    "# training\n",
    "clf.fit(X, y)  \n",
    "yhat = clf.predict([[2., 2.]]) # use on new data\n",
    "\n",
    "print(\"prediction:\",yhat)\n",
    "print(\"classifier:\",clf.coef_) # retrieve the coefs from inside the object (cf doc)"
   ]
  },
  {
   "cell_type": "code",
   "execution_count": 24,
   "metadata": {},
   "outputs": [
    {
     "name": "stdout",
     "output_type": "stream",
     "text": [
      "[1. 1. 1. 1. 1.]\n"
     ]
    }
   ],
   "source": [
    "# Solution 1 to evaluate: cross validation\n",
    "\n",
    "from sklearn.model_selection import cross_val_score\n",
    "\n",
    "# everything is inside :)\n",
    "# possible to parallelize with n_jobs\n",
    "scores = cross_val_score( clf, X, y, cv=5)\n",
    "\n",
    "print(scores)"
   ]
  },
  {
   "cell_type": "code",
   "execution_count": 27,
   "metadata": {},
   "outputs": [
    {
     "name": "stdout",
     "output_type": "stream",
     "text": [
      "[ 1 -1  1 -1 -1 -1  1 -1 -1 -1 -1 -1 -1  1  1  1  1  1  1  1  1 -1  1 -1\n",
      "  1  1  1 -1 -1 -1 -1 -1 -1 -1 -1  1  1 -1 -1 -1]\n"
     ]
    }
   ],
   "source": [
    "# Solution 2: only one split between train/test\n",
    "from sklearn.model_selection import train_test_split\n",
    "\n",
    "# with a seed to enhence reproducibility\n",
    "X_train, X_test, y_train, y_test = train_test_split( X, y, test_size=0.4, random_state=0) \n",
    "clf.fit(X_train, y_train)\n",
    "\n",
    "# Application \n",
    "yhat = clf.predict(X_test)\n",
    "print(yhat)\n"
   ]
  },
  {
   "cell_type": "code",
   "execution_count": 34,
   "metadata": {},
   "outputs": [
    {
     "name": "stdout",
     "output_type": "stream",
     "text": [
      "[50 51 52 53 54 55 56 57 58 59 60 61 62 63 64 65 66 67 68 69 70 71 72 73\n",
      " 74 75 76 77 78 79 80 81 82 83 84 85 86 87 88 89 90 91 92 93 94 95 96 97\n",
      " 98 99] \n",
      "[ 0  1  2  3  4  5  6  7  8  9 10 11 12 13 14 15 16 17 18 19 20 21 22 23\n",
      " 24 25 26 27 28 29 30 31 32 33 34 35 36 37 38 39 40 41 42 43 44 45 46 47\n",
      " 48 49] \n",
      "\n",
      "[ 0  1  2  3  4  5  6  7  8  9 10 11 12 13 14 15 16 17 18 19 20 21 22 23\n",
      " 24 25 26 27 28 29 30 31 32 33 34 35 36 37 38 39 40 41 42 43 44 45 46 47\n",
      " 48 49] \n",
      "[50 51 52 53 54 55 56 57 58 59 60 61 62 63 64 65 66 67 68 69 70 71 72 73\n",
      " 74 75 76 77 78 79 80 81 82 83 84 85 86 87 88 89 90 91 92 93 94 95 96 97\n",
      " 98 99] \n",
      "\n"
     ]
    }
   ],
   "source": [
    "# Solution 3: explicit cross validation\n",
    "from sklearn.model_selection import KFold\n",
    "\n",
    "kf = KFold(n_splits=2)\n",
    "for train, test in kf.split(X):\n",
    "    print(\"%s \\n%s \\n\" % (train, test))\n",
    "    X_train = X[train]\n",
    "    y_train = y[train]\n",
    "    X_test  = X[test]\n",
    "    y_test  = y[test]\n",
    "    # training\n",
    "    # evaluation\n"
   ]
  },
  {
   "cell_type": "markdown",
   "metadata": {},
   "source": [
    "# let's move on real data\n",
    "\n",
    "Here, to explore this classical NLP pipeline, we propose to do binary sentiment classification.  For this, we use a set of 25,000 highly polar movie reviews for training, and 25,000 for testing. \n",
    "\n",
    "- [The original dataset can be found here](http://ai.stanford.edu/~amaas/data/sentiment/)\n",
    "\n",
    "To make things easier, the data was already formatted into a json (`json_pol`) containing a train and a test list of `(string(review),int(class))` couples. As it's a binary classification problem, there are two classes: \n",
    "\n",
    "- `0` codes for negative reviews \n",
    "- `1` codes for positive reviews\n",
    "\n",
    "\n",
    "The json has the following format: \n",
    "```json\n",
    "{\n",
    "\"train\":[[\"this is a positive review\",1],[\"this is a negative review\",0],...],\n",
    "\"test\":[[\"this is a positive review\",1],[\"this is a negative review\",0],...]\n",
    "}\n",
    "```\n"
   ]
  },
  {
   "cell_type": "markdown",
   "metadata": {},
   "source": []
  },
  {
   "cell_type": "markdown",
   "metadata": {},
   "source": [
    "------------------------------------\n",
    "# WARMUP (just read and run)\n",
    "## Step 1: Load Data\n",
    "\n"
   ]
  },
  {
   "cell_type": "markdown",
   "metadata": {},
   "source": [
    "### <font color='red'> /!\\ YOU NEED TO UNZIP dataset/json_pol.zip first /!\\ </font>\n",
    "\n",
    "The json of the following format: `{\"train\":[[review,class],...], \"test\":[[review,class],...]}`. \n",
    "\n",
    " - We need to load it and collect both test and train lists:"
   ]
  },
  {
   "cell_type": "code",
   "execution_count": 39,
   "metadata": {},
   "outputs": [
    {
     "name": "stdout",
     "output_type": "stream",
     "text": [
      "Number of train reviews :  25000\n",
      "----> # of positive :  12500\n",
      "----> # of negative :  12500\n",
      "\n",
      "[\"The undoubted highlight of this movie is Peter O'Toole's performance. In turn wildly comical and terribly terribly tragic. Does anybody do it better than O'Toole? I don't think so. What a great face that man has!<br /><br />The story is an odd one and quite disturbing and emotionally intense in parts (especially toward the end) but it is also oddly touching and does succeed on many levels. However, I felt the film basically revolved around Peter O'Toole's luminous performance and I'm sure I wouldn't have enjoyed it even half as much if he hadn't been in it.\", 1]\n",
      "\n",
      "Number of test reviews :  25000\n",
      "----> # of positive :  12500\n",
      "----> # of negative :  12500\n",
      "\n",
      "['Although credit should have been given to Dr. Seuess for stealing the story-line of \"Horton Hatches The Egg\", this was a fine film. It touched both the emotions and the intellect. Due especially to the incredible performance of seven year old Justin Henry and a script that was sympathetic to each character (and each one\\'s predicament), the thought provoking elements linger long after the tear jerking ones are over. Overall, superior acting from a solid cast, excellent directing, and a very powerful script. The right touches of humor throughout help keep a \"heavy\" subject from becoming tedious or difficult to sit through. Lastly, this film stands the test of time and seems in no way dated, decades after it was released.', 1]\n",
      "\n"
     ]
    }
   ],
   "source": [
    "import json\n",
    "from collections import Counter\n",
    "\n",
    "#### /!\\ YOU NEED TO UNZIP dataset/json_pol.zip first /!\\\n",
    "\n",
    "\n",
    "# Loading json\n",
    "with open(\"datasets/json_pol.txt\",encoding=\"utf-8\") as f:\n",
    "    data = f.readlines()\n",
    "    json_data = json.loads(data[0])\n",
    "    train = json_data[\"train\"]\n",
    "    test = json_data[\"test\"]\n",
    "    \n",
    "\n",
    "# Quick Check\n",
    "counter_train = Counter((x[1] for x in train))\n",
    "counter_test = Counter((x[1] for x in test))\n",
    "print(\"Number of train reviews : \", len(train))\n",
    "print(\"----> # of positive : \", counter_train[1])\n",
    "print(\"----> # of negative : \", counter_train[0])\n",
    "print(\"\")\n",
    "print(train[0])\n",
    "print(\"\")\n",
    "print(\"Number of test reviews : \",len(test))\n",
    "print(\"----> # of positive : \", counter_test[1])\n",
    "print(\"----> # of negative : \", counter_test[0])\n",
    "\n",
    "print(\"\")\n",
    "print(test[0])\n",
    "print(\"\")\n",
    "\n"
   ]
  },
  {
   "cell_type": "markdown",
   "metadata": {},
   "source": [
    "## Step 2: Feature extraction"
   ]
  },
  {
   "cell_type": "markdown",
   "metadata": {},
   "source": [
    "Now that we have the data, we need to vectorize the text so it can be used by classifiers.\n",
    "Different methods exists to vectorize text. Here we use a [bag of word](https://en.wikipedia.org/wiki/Bag-of-words_model) approach:\n",
    "\n",
    ">  In the bag of word model, a text (such as a sentence or a document) is represented as the bag (multiset) of its words, disregarding grammar and even word order but keeping multiplicity.\n",
    "\n",
    "In other words, each text becomes a (sparse) vector which codes for its words. With the following function from scikit-learn, it is straightforward to get a bag of word from raw texts: [CountVectorizer](http://scikit-learn.org/stable/modules/generated/sklearn.feature_extraction.text.CountVectorizer.html)\n",
    "\n",
    ">Convert a collection of text documents to a matrix of token counts\n",
    "This implementation produces a sparse representation of the counts using scipy.sparse.csr_matrix.\n",
    "If you do not provide an a-priori dictionary and you do not use an analyzer that does some kind of feature selection then the number of features will be equal to the vocabulary size found by analyzing the data. [USER GUIDE](http://scikit-learn.org/stable/modules/feature_extraction.html#text-feature-extraction)\n",
    "\n"
   ]
  },
  {
   "cell_type": "code",
   "execution_count": 44,
   "metadata": {},
   "outputs": [
    {
     "name": "stdout",
     "output_type": "stream",
     "text": [
      "['00' '000' '0000000000001' '00001' '00015' '000s' '001' '003830' '006'\n",
      " '007' '0079' '0080' '0083' '0093638' '00am' '00pm' '00s' '01' '01pm' '02'\n",
      " '020410' '029' '03' '04' '041' '05' '050' '06' '06th' '07' '08' '087'\n",
      " '089' '08th' '09' '0f' '0ne' '0r' '0s' '10' '100' '1000' '1000000'\n",
      " '10000000000000' '1000lb' '1000s' '1001' '100b' '100k' '100m' '100min'\n",
      " '100mph' '100s' '100th' '100x' '100yards' '101' '101st' '102' '102nd'\n",
      " '103' '104' '1040' '1040a' '1040s' '105' '1050' '105lbs' '106' '106min'\n",
      " '107' '108' '109' '10am' '10lines' '10mil' '10min' '10minutes' '10p'\n",
      " '10pm' '10s' '10star' '10th' '10x' '10yr' '11' '110' '1100' '11001001'\n",
      " '1100ad' '111' '112' '1138' '114' '1146' '115' '116' '117' '11f' '11m'\n",
      " '11th' '12' '120' '1200' '1200f' '1201' '1202' '123' '12383499143743701'\n",
      " '125' '125m' '127' '128' '12a' '12hr' '12m' '12mm' '12s' '12th' '13'\n",
      " '130' '1300' '1300s' '131' '1318' '132' '134' '135' '135m' '136' '137'\n",
      " '138' '139' '13k' '13s' '13th' '14' '140' '1408' '140hp' '1415' '142'\n",
      " '145' '1454' '146' '147' '1473' '149' '1492' '14a' '14ieme' '14s' '14th'\n",
      " '14yr' '14ème' '15' '150' '1500' '1500s' '150_worst_cases_of_nepotism'\n",
      " '150k' '150m' '151' '152' '153' '1547' '155' '156' '1561' '157' '158'\n",
      " '1594' '15mins' '15minutes' '15s' '15th' '16' '160' '1600' '1600s'\n",
      " '160lbs' '161' '1610' '163' '164' '165' '166' '1660s' '168' '169' '1692'\n",
      " '16ieme' '16k' '16mm' '16s' '16th' '16x9' '16ème' '16éme' '17' '170'\n",
      " '1700' '1700s' '1701' '171' '175' '177' '1775' '1780s' '1790s' '1794'\n",
      " '1798' '17million' '17th' '18' '180' '1800' '1800mph' '1800s' '1801'\n",
      " '1805' '1809' '180d' '1812' '1813' '18137' '1814' '1816' '1820' '1824'\n",
      " '183' '1830' '1832' '1836' '1837' '1838' '1839' '1840' '1840s' '1844'\n",
      " '1846' '1847' '185' '1850' '1850ies' '1850s' '1852' '1853' '1854' '1855'\n",
      " '1859' '1860' '1860s' '1861' '1862' '1863' '1864' '1865' '1870' '1870s'\n",
      " '1871' '1873' '1874' '1875' '1876' '188' '1880' '1880s' '1881' '1886'\n",
      " '1887' '1888' '1889' '188o' '1890' '1890s' '1892' '1893' '1894' '1895'\n",
      " '1896' '1897' '1898' '1899' '18a' '18s' '18th' '18year' '19' '190' '1900'\n",
      " '1900s' '1901' '1902' '1903' '1904' '1905' '1906' '1907' '1908' '1909'\n",
      " '1910' '1910s' '1911' '1912' '1913' '1914' '1915' '1916' '1917' '1918'\n",
      " '1919' '192' '1920' '1920ies' '1920s' '1921' '1922' '1923' '1924' '1925'\n",
      " '1926' '1927' '1928' '1929' '1930' '1930ies' '1930s' '1931' '1932' '1933'\n",
      " '1934' '1935' '1936' '1937' '1938' '1939' '193o' '194' '1940' '1940s'\n",
      " '1941' '1942' '1943' '1944' '1945' '1946' '1947' '1948' '1949' '1949er'\n",
      " '195' '1950' '1950s' '1951' '1952' '1953' '1954' '1955' '1956' '1957'\n",
      " '1958' '1959' '1960' '1960s' '1961' '1961s' '1962' '1963' '1964' '1965'\n",
      " '1966' '1967' '1968' '1969' '197' '1970' '1970ies' '1970s' '1971' '1972'\n",
      " '1973' '1974' '1975' '1976' '1977' '1978' '1979' '19796' '197o' '1980'\n",
      " '1980ies' '1980s' '1981' '1982' '1982s' '1983' '1983s' '1984' '1984ish'\n",
      " '1985' '1986' '1987' '1988' '1989' '1990' '1990s' '1991' '1992' '1993'\n",
      " '1994' '1995' '1996' '1997' '1998' '1999' '19k' '19th' '19thc' '1am'\n",
      " '1and' '1d' '1h' '1h30' '1h40' '1h40m' '1h53' '1hour' '1hr' '1million'\n",
      " '1min' '1mln' '1o' '1s' '1st' '1ton' '1tv' '1½' '1ç' '20' '200' '2000'\n",
      " '20000' '20001' '2000ad' '2000s' '2001' '2002' '2003' '2004' '2004s'\n",
      " '2005' '2006' '2007' '2008' '2009' '200ft' '200th' '201' '2010' '2012'\n",
      " '2013' '2015' '2017' '2019' '2020' '2022' '2023' '2030' '2031' '2033'\n",
      " '2035' '2036' '2038' '204' '2040' '2044' '2046' '2047' '2050' '2053'\n",
      " '2054' '206' '2060' '2070' '2080' '209' '2090' '20c' '20ft' '20k' '20m'\n",
      " '20mins' '20minutes' '20mn' '20p' '20perr' '20s' '20th' '20ties']\n"
     ]
    }
   ],
   "source": [
    "from sklearn.feature_extraction.text import CountVectorizer\n",
    "classes = [pol for text,pol in train]\n",
    "corpus = [text for text,pol in train]\n",
    "\n",
    "vectorizer = CountVectorizer(input='content', encoding='utf-8',\n",
    "                              decode_error='strict', strip_accents=None,\n",
    "                              lowercase=True, preprocessor=None, tokenizer=None,\n",
    "                              stop_words=None, token_pattern='(?u)\\b\\w\\w+\\b',\n",
    "                              ngram_range=(1, 1), analyzer='word',\n",
    "                              max_df=1.0, min_df=1, max_features=None,\n",
    "                              vocabulary=None, binary=False, dtype='numpy.int64')\n",
    "\n",
    "\n",
    "vectorizer = CountVectorizer()\n",
    "\n",
    "X = vectorizer.fit_transform(corpus)\n",
    "print(vectorizer.get_feature_names_out()[:500]) # we only print a few\n",
    "\n",
    "\n"
   ]
  },
  {
   "cell_type": "code",
   "execution_count": 45,
   "metadata": {},
   "outputs": [
    {
     "name": "stdout",
     "output_type": "stream",
     "text": [
      "(25000, 74849)\n"
     ]
    }
   ],
   "source": [
    "print(X.shape)\n",
    "#print(vectorizer.get_feature_names()[70000:70500])"
   ]
  },
  {
   "cell_type": "markdown",
   "metadata": {},
   "source": [
    "## Step 3: Classifiers\n",
    "\n",
    "Once we have vectorized data, we can use them to train statistical classifiers.\n",
    "\n",
    "Here, we propose to use three classic options:\n",
    "\n",
    "- Naïve bayes\n",
    "- Logistic Regression\n",
    "- SVM\n",
    "\n",
    "\n",
    "We fit each model below with default parameters"
   ]
  },
  {
   "cell_type": "markdown",
   "metadata": {},
   "source": [
    "and we evaluate the accuracy of each model"
   ]
  },
  {
   "cell_type": "code",
   "execution_count": 46,
   "metadata": {},
   "outputs": [
    {
     "name": "stderr",
     "output_type": "stream",
     "text": [
      "/Users/allaa/miniconda3/lib/python3.10/site-packages/sklearn/linear_model/_logistic.py:458: ConvergenceWarning: lbfgs failed to converge (status=1):\n",
      "STOP: TOTAL NO. of ITERATIONS REACHED LIMIT.\n",
      "\n",
      "Increase the number of iterations (max_iter) or scale the data as shown in:\n",
      "    https://scikit-learn.org/stable/modules/preprocessing.html\n",
      "Please also refer to the documentation for alternative solver options:\n",
      "    https://scikit-learn.org/stable/modules/linear_model.html#logistic-regression\n",
      "  n_iter_i = _check_optimize_result(\n",
      "/Users/allaa/miniconda3/lib/python3.10/site-packages/sklearn/svm/_base.py:1244: ConvergenceWarning: Liblinear failed to converge, increase the number of iterations.\n",
      "  warnings.warn(\n"
     ]
    },
    {
     "name": "stdout",
     "output_type": "stream",
     "text": [
      "Naïve Bayes accuracy: 0.81356\n",
      "Logistic Regression accuracy: 0.86384\n",
      "SVM accuracy: 0.84576\n"
     ]
    }
   ],
   "source": [
    "from sklearn.naive_bayes import MultinomialNB\n",
    "from sklearn.linear_model import LogisticRegression\n",
    "from sklearn.svm import LinearSVC\n",
    "from sklearn.metrics import accuracy_score\n",
    "\n",
    "\n",
    "#Naïve Bayes\n",
    "nb_clf = MultinomialNB()\n",
    "nb_clf.fit(X, classes)\n",
    "\n",
    "\n",
    "#Logistic Regression\n",
    "lr_clf = LogisticRegression(random_state=0, solver='lbfgs',max_iter=100,n_jobs=-1)\n",
    "lr_clf.fit(X, classes)\n",
    "\n",
    "#Linear SVM\n",
    "svm_clf = LinearSVC(random_state=0, tol=1e-5)\n",
    "svm_clf.fit(X, classes)\n",
    "\n",
    "\n",
    "true = [pol for text,pol in test]\n",
    "test_corpus = [text for text,pol in test]\n",
    "X_test = vectorizer.transform(test_corpus)\n",
    "\n",
    "pred_nb = nb_clf.predict(X_test)\n",
    "pred_lr = lr_clf.predict(X_test)\n",
    "pred_svm = svm_clf.predict(X_test)\n",
    "\n",
    "\n",
    "print(f\"Naïve Bayes accuracy: {accuracy_score(true, pred_nb)}\")\n",
    "print(f\"Logistic Regression accuracy: {accuracy_score(true, pred_lr)}\")\n",
    "print(f\"SVM accuracy: {accuracy_score(true, pred_svm)}\")"
   ]
  },
  {
   "cell_type": "markdown",
   "metadata": {},
   "source": [
    "--------------------------------------------------\n",
    "\n",
    "# EXERCISES (now it's your turn)"
   ]
  },
  {
   "cell_type": "markdown",
   "metadata": {},
   "source": [
    "To further improve performances, we can try to improve the simple bag of word model as used above to address some issues **=> BoW variants:**\n",
    " \n",
    "- **(a) Pre-prcessing, clean text:** punctuation, UPPER CASE, numbers... Do cleaning bring improvements?\n",
    "- **(b) Dictionary processing**: stop words (existing/corpus-specific list), frequent vs infrequent words, max number of words- \n",
    "- **(c) Binary vectors**\n",
    "- **(d) TF-IDF**\n",
    "- **(e) N-grams**\n"
   ]
  },
  {
   "cell_type": "markdown",
   "metadata": {},
   "source": [
    "**(a) Clean text ?**\n",
    "- **strip_accents:** {‘ascii’, ‘unicode’, None}\n",
    "Remove accents and perform other character normalization during the preprocessing step. ‘ascii’ is a fast method that only works on characters that have an direct ASCII mapping. ‘unicode’ is a slightly slower method that works on any characters. None (default) does nothing.\n",
    "Both ‘ascii’ and ‘unicode’ use NFKD normalization from unicodedata.normalize.\n",
    "\n",
    "- **lowercase:** boolean, True by default\n",
    "Convert all characters to lowercase before tokenizing.\n",
    "\n",
    "- **preprocessor:** callable or None (default)\n",
    "Override the preprocessing (string transformation) stage while preserving the tokenizing and n-grams generation steps.\n",
    "\n",
    "    - **token_pattern:** string. Regular expression denoting what constitutes a “token”, only used if analyzer == 'word'. The default regexp select tokens of 2 or more alphanumeric characters (punctuation is completely ignored and always treated as a token separator).\n",
    "    - **`Prepocessor`**: argument takes a function which processes text directly. This way it becomes easy to do \"fancy\" things like:\n",
    "        - [part of speech tagging](https://en.wikipedia.org/wiki/Part-of-speech_tagging)\n",
    "        - [stemming](https://en.wikipedia.org/wiki/Stemming) \n",
    "        - To do both, you can use [NLTK tagger](http://www.nltk.org/api/nltk.tag.html) and [NLTK stemmer](http://www.nltk.org/api/nltk.stem.html#module-nltk.stem).\n",
    "\n",
    "- **[Byte-pair encoding](https://www.freecodecamp.org/news/evolution-of-tokenization/)** to find compound words (e.g. Sorbonne University, City of Paris, Prime Minister, etc...)\n",
    "\n",
    "[see CountVectorizer for full doc](http://scikit-learn.org/stable/modules/generated/sklearn.feature_extraction.text.CountVectorizer.html)"
   ]
  },
  {
   "cell_type": "code",
   "execution_count": 143,
   "metadata": {},
   "outputs": [
    {
     "name": "stdout",
     "output_type": "stream",
     "text": [
      "(25000, 73503)\n"
     ]
    }
   ],
   "source": [
    "import re\n",
    "import string\n",
    "\n",
    "reg = \"\\b[^\\W]\\b\" #matches word with characters \n",
    "\n",
    "# 1) Try removing punctuation or putting text to lower case (maybe use a regex)\n",
    "# 2) Try \"Stemming\" - \"pos-tagging\" the text\n",
    "\n",
    "def preprocess(text):\n",
    "    \"\"\"\n",
    "    Transforms text to remove unwanted bits.\n",
    "    \"\"\"\n",
    "    ## Removal of URLs\n",
    "    re.sub('(www|http)[\\w\\.-_]+\\.(fr|com|org)', 'URL', text)\n",
    "    \n",
    "    ## Punctuation removal\n",
    "    punc = string.punctuation  \n",
    "    punc += '\\n\\r\\t'\n",
    "    text = text.translate(str.maketrans(punc, ' ' * len(punc))) \n",
    "\n",
    "    ## Numbers removal\n",
    "    text = re.sub('[0-9]+', '', text)\n",
    "\n",
    "    ## Replacement of uppercases with lowercases\n",
    "    text = unicodedata.normalize('NFD', text).encode('ascii', 'ignore').decode(\"utf-8\")\n",
    "    text = text.lower()\n",
    "    \n",
    "    return text\n",
    "\n",
    "\n",
    "vectorizer = CountVectorizer(preprocessor=preprocess)\n",
    "X = vectorizer.fit_transform(corpus)\n",
    "\n",
    "print(X.shape)\n"
   ]
  },
  {
   "cell_type": "markdown",
   "metadata": {},
   "source": [
    "**(b) Dictionary processing**: If we visualize the word frequency distribution we see that a few words (roughly 20) appear a lot more than the others. These words are often refered to as **stop words**. Would remove them improve accuracy ?\n"
   ]
  },
  {
   "cell_type": "code",
   "execution_count": 56,
   "metadata": {},
   "outputs": [
    {
     "name": "stdout",
     "output_type": "stream",
     "text": [
      "[('the', 568723), ('a', 306953), ('and', 301892), ('of', 283618), ('to', 261847), ('is', 203049), ('in', 169976), ('I', 132488), ('that', 126813), ('this', 113720), ('it', 107895), ('/><br', 100974), ('was', 92656), ('as', 83127), ('with', 82563), ('for', 80915), ('The', 67290), ('but', 66261), ('on', 61192), ('movie', 60756)]\n"
     ]
    },
    {
     "data": {
      "image/png": "[encoded data removed]",
      "text/plain": [
       "<Figure size 640x480 with 1 Axes>"
      ]
     },
     "metadata": {},
     "output_type": "display_data"
    }
   ],
   "source": [
    "# Let's plot the count of the 1000 most used words:\n",
    "\n",
    "import matplotlib.pyplot as plt\n",
    "%matplotlib inline\n",
    "\n",
    "from collections import Counter\n",
    "\n",
    "wc = Counter()\n",
    "for text,pol in train+test:\n",
    "    wc.update(text.split(\" \"))\n",
    "    \n",
    "freq = [f for w,f in wc.most_common(1000)]\n",
    "\n",
    "plt.plot(freq[:1000])\n",
    "print(wc.most_common(20))"
   ]
  },
  {
   "cell_type": "markdown",
   "metadata": {},
   "source": [
    "**Let's remove stopwords:** english stop words: direclty on sklearn \n",
    "\n",
    "- **stop_words:** string {‘english’}, list, or None (default)\n",
    "    - If ‘english’, a built-in stop word list for English is used. There are several known issues with ‘english’ and you should consider an alternative (see Using stop words).\n",
    "    - If a list, that list is assumed to contain stop words, all of which will be removed from the resulting tokens. Only applies if analyzer == 'word'.\n",
    "    - If None, no stop words will be used. max_df can be set to a value in the range [0.7, 1.0) to automatically detect and filter stop words based on intra corpus document frequency of terms.\n",
    "\n",
    "[see CountVectorizer for full doc](http://scikit-learn.org/stable/modules/generated/sklearn.feature_extraction.text.CountVectorizer.html)"
   ]
  },
  {
   "cell_type": "code",
   "execution_count": 69,
   "metadata": {},
   "outputs": [],
   "source": [
    "vectorizer = CountVectorizer(stop_words='english') "
   ]
  },
  {
   "cell_type": "code",
   "execution_count": 101,
   "metadata": {},
   "outputs": [
    {
     "name": "stdout",
     "output_type": "stream",
     "text": [
      "1298\n"
     ]
    },
    {
     "name": "stderr",
     "output_type": "stream",
     "text": [
      "/Users/allaa/miniconda3/lib/python3.10/site-packages/sklearn/feature_extraction/text.py:409: UserWarning: Your stop_words may be inconsistent with your preprocessing. Tokenizing the stop words generated tokens ['ain', 'daren', 'hadn', 'herse', 'himse', 'itse', 'mayn', 'mightn', 'mon', 'mustn', 'myse', 'needn', 'oughtn', 'shan'] not in stop_words.\n",
      "  warnings.warn(\n"
     ]
    },
    {
     "name": "stdout",
     "output_type": "stream",
     "text": [
      "(25000, 72430)\n"
     ]
    }
   ],
   "source": [
    "# CountVectorizer can take a list of stop words as argument.\n",
    "# Build or download a list of stop word (from NLTK for exemple)\n",
    "\n",
    "# Loading json\n",
    "with open(\"datasets/stopwords-en.txt\",encoding=\"utf-8\") as f:\n",
    "    data = f.readlines()\n",
    "    stopwords = json.loads(data[0])\n",
    "\n",
    "print(len(stopwords))\n",
    "\n",
    "vectorizer = CountVectorizer(preprocessor=preprocess,stop_words=stopwords)\n",
    "X = vectorizer.fit_transform(corpus)\n",
    "print(X.shape)"
   ]
  },
  {
   "cell_type": "markdown",
   "metadata": {},
   "source": [
    "**Stopwords from other languages**"
   ]
  },
  {
   "cell_type": "code",
   "execution_count": 93,
   "metadata": {},
   "outputs": [
    {
     "name": "stdout",
     "output_type": "stream",
     "text": [
      "['i', 'me', 'my', 'myself', 'we', 'our', 'ours', 'ourselves', 'you', \"you're\", \"you've\", \"you'll\", \"you'd\", 'your', 'yours', 'yourself', 'yourselves', 'he', 'him', 'his', 'himself', 'she', \"she's\", 'her', 'hers', 'herself', 'it', \"it's\", 'its', 'itself', 'they', 'them', 'their', 'theirs', 'themselves', 'what', 'which', 'who', 'whom', 'this', 'that', \"that'll\", 'these', 'those', 'am', 'is', 'are', 'was', 'were', 'be', 'been', 'being', 'have', 'has', 'had', 'having', 'do', 'does', 'did', 'doing', 'a', 'an', 'the', 'and', 'but', 'if', 'or', 'because', 'as', 'until', 'while', 'of', 'at', 'by', 'for', 'with', 'about', 'against', 'between', 'into', 'through', 'during', 'before', 'after', 'above', 'below', 'to', 'from', 'up', 'down', 'in', 'out', 'on', 'off', 'over', 'under', 'again', 'further', 'then', 'once', 'here', 'there', 'when', 'where', 'why', 'how', 'all', 'any', 'both', 'each', 'few', 'more', 'most', 'other', 'some', 'such', 'no', 'nor', 'not', 'only', 'own', 'same', 'so', 'than', 'too', 'very', 's', 't', 'can', 'will', 'just', 'don', \"don't\", 'should', \"should've\", 'now', 'd', 'll', 'm', 'o', 're', 've', 'y', 'ain', 'aren', \"aren't\", 'couldn', \"couldn't\", 'didn', \"didn't\", 'doesn', \"doesn't\", 'hadn', \"hadn't\", 'hasn', \"hasn't\", 'haven', \"haven't\", 'isn', \"isn't\", 'ma', 'mightn', \"mightn't\", 'mustn', \"mustn't\", 'needn', \"needn't\", 'shan', \"shan't\", 'shouldn', \"shouldn't\", 'wasn', \"wasn't\", 'weren', \"weren't\", 'won', \"won't\", 'wouldn', \"wouldn't\", 'au', 'aux', 'avec', 'ce', 'ces', 'dans', 'de', 'des', 'du', 'elle', 'en', 'et', 'eux', 'il', 'ils', 'je', 'la', 'le', 'les', 'leur', 'lui', 'ma', 'mais', 'me', 'même', 'mes', 'moi', 'mon', 'ne', 'nos', 'notre', 'nous', 'on', 'ou', 'par', 'pas', 'pour', 'qu', 'que', 'qui', 'sa', 'se', 'ses', 'son', 'sur', 'ta', 'te', 'tes', 'toi', 'ton', 'tu', 'un', 'une', 'vos', 'votre', 'vous', 'c', 'd', 'j', 'l', 'à', 'm', 'n', 's', 't', 'y', 'été', 'étée', 'étées', 'étés', 'étant', 'étante', 'étants', 'étantes', 'suis', 'es', 'est', 'sommes', 'êtes', 'sont', 'serai', 'seras', 'sera', 'serons', 'serez', 'seront', 'serais', 'serait', 'serions', 'seriez', 'seraient', 'étais', 'était', 'étions', 'étiez', 'étaient', 'fus', 'fut', 'fûmes', 'fûtes', 'furent', 'sois', 'soit', 'soyons', 'soyez', 'soient', 'fusse', 'fusses', 'fût', 'fussions', 'fussiez', 'fussent', 'ayant', 'ayante', 'ayantes', 'ayants', 'eu', 'eue', 'eues', 'eus', 'ai', 'as', 'avons', 'avez', 'ont', 'aurai', 'auras', 'aura', 'aurons', 'aurez', 'auront', 'aurais', 'aurait', 'aurions', 'auriez', 'auraient', 'avais', 'avait', 'avions', 'aviez', 'avaient', 'eut', 'eûmes', 'eûtes', 'eurent', 'aie', 'aies', 'ait', 'ayons', 'ayez', 'aient', 'eusse', 'eusses', 'eût', 'eussions', 'eussiez', 'eussent']\n"
     ]
    },
    {
     "name": "stderr",
     "output_type": "stream",
     "text": [
      "[nltk_data] Downloading package stopwords to /Users/allaa/nltk_data...\n",
      "[nltk_data]   Package stopwords is already up-to-date!\n"
     ]
    }
   ],
   "source": [
    "# French stop words: nltk\n",
    "import nltk\n",
    "nltk.download('stopwords')\n",
    "from nltk.corpus import stopwords\n",
    "final_stopwords_list = stopwords.words('english') + stopwords.words('french')\n",
    "print(final_stopwords_list)\n",
    "vectorizer = CountVectorizer(stop_words=final_stopwords_list)\n",
    "vectorizer = TfidfVectorizer(stop_words=final_stopwords_list)"
   ]
  },
  {
   "cell_type": "markdown",
   "metadata": {},
   "source": [
    "**(b) Dictionary processing, restricting vocabulary size: corpus-specific stopwords** => max_df + suppress rare words (min_df) + max_features \n",
    "\n",
    "- **max_df:** float in range [0.0, 1.0] or int, default=1.0\n",
    "When building the vocabulary ignore terms that have a document frequency strictly higher than the given threshold (corpus-specific stop words). If float, the parameter represents a proportion of documents, integer absolute counts. This parameter is ignored if vocabulary is not None.\n",
    "\n",
    "- **min_df:** float in range [0.0, 1.0] or int, default=1\n",
    "When building the vocabulary ignore terms that have a document frequency strictly lower than the given threshold. This value is also called cut-off in the literature. If float, the parameter represents a proportion of documents, integer absolute counts. This parameter is ignored if vocabulary is not None.\n",
    "\n",
    "- **max_features:** int or None, default=None\n",
    "If not None, build a vocabulary that only consider the top max_features ordered by term frequency across the corpus.\n",
    "This parameter is ignored if vocabulary is not None.\n",
    "\n",
    "[see CountVectorizer for full doc](http://scikit-learn.org/stable/modules/generated/sklearn.feature_extraction.text.CountVectorizer.html)"
   ]
  },
  {
   "cell_type": "code",
   "execution_count": 72,
   "metadata": {},
   "outputs": [
    {
     "name": "stdout",
     "output_type": "stream",
     "text": [
      "10000\n"
     ]
    }
   ],
   "source": [
    "# max_df: float (ratio) / integer(number) of document above which we remove the word)\n",
    "# min_df: float (ratio) / integer(number) of document under which we remove the word)\n",
    "\n",
    "min_df=5             \n",
    "max_df=0.5\n",
    "max_features=10000\n",
    "vectorizer = CountVectorizer(max_df=max_df,min_df=min_df,max_features=max_features) #try out some values\n",
    "X = vectorizer.fit_transform(corpus)\n",
    "#What is the dictionnary size now ?\n",
    "dic_size = X.shape[1]###\n",
    "print(dic_size)"
   ]
  },
  {
   "cell_type": "markdown",
   "metadata": {},
   "source": [
    "**(c) : Binary BoW**: instead of word counts, the bag of word vector can only represent used word.\n",
    "\n",
    "- **binary:** boolean, default=False\n",
    "If True, all non zero counts are set to 1. This is useful for discrete probabilistic models that model binary events rather than integer counts.\n",
    "\n",
    "[see CountVectorizer for full doc](http://scikit-learn.org/stable/modules/generated/sklearn.feature_extraction.text.CountVectorizer.html)"
   ]
  },
  {
   "cell_type": "markdown",
   "metadata": {},
   "source": [
    "**(d) TF-IDF**: words can also be weighted by importance. $\\mbox{Corpus : } C = \\{\\mathbf d_{1},\\ldots,\\mathbf d_{|C|}\\}$, vocabulary $V = \\{\\mathbf w_{1},\\ldots,\\mathbf w_{|V|}\\}$: \n",
    "- **$d_{ik}^{(tf)}$ term frequency** for word $w_k$ in document $d_i$, s.t. $\\sum\\limits_{k=1}^{|V|}d_{ik}^{(tf)}=1$\n",
    "- **$\\mathrm{df_{k}}$ document frequency** $\\mathrm{df_{k}} =  \\frac{|\\{\\mathbf d: t_{k} \\in \\mathbf d\\}|}{|C|}$\n",
    "\n",
    "$$ d_{ik}^{(tfidf)} = d_{ik}^{(tf)}   \\log \\frac{1}{\\mathrm{df_{k}}} $$\n",
    "\n",
    "\n",
    "## [TfidfVectorizer from scikit can be directly used](http://scikit-learn.org/stable/modules/generated/sklearn.feature_extraction.text.TfidfVectorizer.html#sklearn.feature_extraction.text.TfidfVectorizer): experiment it!\n",
    "\n",
    "**Main paramters:**\n",
    "- **use_idf:** boolean, default=True. \n",
    "- **smooth_idf:** Smooth idf weights, default=True. Adds one to document frequencies, as if an extra document was seen containing every term in the collection exactly once. Prevents zero divisions.\n",
    "- **sublinear_tf:** boolean, default=bool, default=False. Apply sublinear tf scaling, i.e. replace $d_{ik}^{(tf)}$ with $1 + log(d_{ik}^{(tf)})$.\n",
    "\n"
   ]
  },
  {
   "cell_type": "code",
   "execution_count": 98,
   "metadata": {},
   "outputs": [],
   "source": [
    "from sklearn.feature_extraction.text import TfidfVectorizer\n",
    "\n",
    "use_idf=True          \n",
    "smooth_idf=True      \n",
    "sublinear_tf=False    \n",
    "\n",
    "vectorizer = TfidfVectorizer(use_idf= use_idf, smooth_idf=smooth_idf, sublinear_tf=sublinear_tf)\n",
    "    "
   ]
  },
  {
   "cell_type": "markdown",
   "metadata": {},
   "source": [
    "**(e) n-grams**: instead of words, consider n-uplets of words as tokens\n",
    "\n",
    "- **ngram_range:** tuple (min_n, max_n)\n",
    "The lower and upper boundary of the range of n-values for different n-grams to be extracted. All values of n such that min_n <= n <= max_n will be used.\n",
    "\n",
    "- **analyzer:** string, {‘word’, ‘char’, ‘char_wb’} or callable\n",
    "Whether the feature should be made of word or character n-grams. Option ‘char_wb’ creates character n-grams only from text inside word boundaries; n-grams at the edges of words are padded with space.\n",
    "If a callable is passed it is used to extract the sequence of features out of the raw, unprocessed input.\n",
    "\n",
    "[see CountVectorizer for full doc](http://scikit-learn.org/stable/modules/generated/sklearn.feature_extraction.text.CountVectorizer.html)"
   ]
  },
  {
   "cell_type": "code",
   "execution_count": 80,
   "metadata": {},
   "outputs": [
    {
     "name": "stdout",
     "output_type": "stream",
     "text": [
      "1513832\n"
     ]
    }
   ],
   "source": [
    "ngram_range = (1,2) # unigrams and bigrams\n",
    "vectorizer = CountVectorizer(ngram_range=ngram_range,analyzer='word') # Maybe 2-grams or 3-grams bring improvements ?\n",
    "X = vectorizer.fit_transform(corpus)\n",
    "#What is the dictionnary size now ?\n",
    "dic_size = X.shape[1]###\n",
    "print(dic_size)"
   ]
  },
  {
   "cell_type": "markdown",
   "metadata": {},
   "source": [
    "# Answer the following questions\n",
    "\n",
    "- What is the most effective pre-processing ?\n",
    "- Which model is the most accurate ?"
   ]
  },
  {
   "cell_type": "code",
   "execution_count": 81,
   "metadata": {},
   "outputs": [
    {
     "name": "stderr",
     "output_type": "stream",
     "text": [
      "/Users/allaa/miniconda3/lib/python3.10/site-packages/sklearn/linear_model/_logistic.py:458: ConvergenceWarning: lbfgs failed to converge (status=1):\n",
      "STOP: TOTAL NO. of ITERATIONS REACHED LIMIT.\n",
      "\n",
      "Increase the number of iterations (max_iter) or scale the data as shown in:\n",
      "    https://scikit-learn.org/stable/modules/preprocessing.html\n",
      "Please also refer to the documentation for alternative solver options:\n",
      "    https://scikit-learn.org/stable/modules/linear_model.html#logistic-regression\n",
      "  n_iter_i = _check_optimize_result(\n",
      "/Users/allaa/miniconda3/lib/python3.10/site-packages/sklearn/svm/_base.py:1244: ConvergenceWarning: Liblinear failed to converge, increase the number of iterations.\n",
      "  warnings.warn(\n"
     ]
    },
    {
     "name": "stdout",
     "output_type": "stream",
     "text": [
      "Naïve Bayes accuracy: 0.85692\n",
      "Logistic Regression accuracy: 0.89636\n",
      "SVM accuracy: 0.8912\n"
     ]
    }
   ],
   "source": [
    "from sklearn.naive_bayes import MultinomialNB\n",
    "from sklearn.linear_model import LogisticRegression\n",
    "from sklearn.svm import LinearSVC\n",
    "from sklearn.metrics import accuracy_score\n",
    "\n",
    "#Naïve Bayes\n",
    "nb_clf = MultinomialNB()\n",
    "nb_clf.fit(X, classes)\n",
    "\n",
    "#Logistic Regression\n",
    "lr_clf = LogisticRegression(random_state=0, solver='lbfgs',n_jobs=-1)\n",
    "lr_clf.fit(X, classes)\n",
    "\n",
    "#Linear SVM\n",
    "svm_clf = LinearSVC(random_state=0, tol=1e-5)\n",
    "svm_clf.fit(X, classes)\n",
    "\n",
    "\n",
    "true = [pol for text,pol in test]\n",
    "test_corpus = [text for text,pol in test]\n",
    "X_test = vectorizer.transform(test_corpus)\n",
    "\n",
    "pred_nb = nb_clf.predict(X_test)\n",
    "pred_lr = lr_clf.predict(X_test)\n",
    "pred_svm = svm_clf.predict(X_test)\n",
    "\n",
    "\n",
    "print(f\"Naïve Bayes accuracy: {accuracy_score(true, pred_nb)}\")\n",
    "print(f\"Logistic Regression accuracy: {accuracy_score(true, pred_lr)}\")\n",
    "print(f\"SVM accuracy: {accuracy_score(true, pred_svm)}\")"
   ]
  },
  {
   "cell_type": "code",
   "execution_count": null,
   "metadata": {},
   "outputs": [],
   "source": []
  },
  {
   "cell_type": "markdown",
   "metadata": {},
   "source": [
    "# Improving classifier performances\n",
    "- **Using regularization** if the number of training sample is small wrt BoW size\n",
    "- **Using relancing** if the number examples across class is inbalanced"
   ]
  },
  {
   "cell_type": "code",
   "execution_count": 108,
   "metadata": {},
   "outputs": [
    {
     "name": "stdout",
     "output_type": "stream",
     "text": [
      "(25000, 74849)\n",
      "Naïve Bayes accuracy: 0.82956\n",
      "Logistic Regression accuracy: 0.88316\n",
      "SVM accuracy: 0.8772\n"
     ]
    }
   ],
   "source": [
    "vectorizer = TfidfVectorizer(use_idf= use_idf, smooth_idf=smooth_idf, sublinear_tf=sublinear_tf)\n",
    "X = vectorizer.fit_transform(corpus)\n",
    "print(X.shape)\n",
    "\n",
    "#Naïve Bayes\n",
    "nb_clf = MultinomialNB()\n",
    "nb_clf.fit(X, classes)\n",
    "\n",
    "#Logistic Regression\n",
    "lr_clf = LogisticRegression(random_state=0, solver='lbfgs',n_jobs=-1)\n",
    "lr_clf.fit(X, classes)\n",
    "\n",
    "#Linear SVM\n",
    "svm_clf = LinearSVC(random_state=0, tol=1e-5)\n",
    "svm_clf.fit(X, classes)\n",
    "\n",
    "\n",
    "true = [pol for text,pol in test]\n",
    "test_corpus = [text for text,pol in test]\n",
    "X_test = vectorizer.transform(test_corpus)\n",
    "\n",
    "pred_nb = nb_clf.predict(X_test)\n",
    "pred_lr = lr_clf.predict(X_test)\n",
    "pred_svm = svm_clf.predict(X_test)\n",
    "\n",
    "\n",
    "print(f\"Naïve Bayes accuracy: {accuracy_score(true, pred_nb)}\")\n",
    "print(f\"Logistic Regression accuracy: {accuracy_score(true, pred_lr)}\")\n",
    "print(f\"SVM accuracy: {accuracy_score(true, pred_svm)}\")"
   ]
  },
  {
   "cell_type": "code",
   "execution_count": 109,
   "metadata": {},
   "outputs": [
    {
     "name": "stdout",
     "output_type": "stream",
     "text": [
      "(25000, 74650)\n",
      "Naïve Bayes accuracy: 0.83436\n",
      "Logistic Regression accuracy: 0.88316\n",
      "SVM accuracy: 0.8712\n"
     ]
    }
   ],
   "source": [
    "vectorizer = TfidfVectorizer(stop_words=final_stopwords_list,use_idf= use_idf, smooth_idf=smooth_idf, sublinear_tf=sublinear_tf)\n",
    "\n",
    "X = vectorizer.fit_transform(corpus)\n",
    "print(X.shape)\n",
    "\n",
    "#Naïve Bayes\n",
    "nb_clf = MultinomialNB()\n",
    "nb_clf.fit(X, classes)\n",
    "\n",
    "#Logistic Regression\n",
    "lr_clf = LogisticRegression(random_state=0, solver='lbfgs',n_jobs=-1)\n",
    "lr_clf.fit(X, classes)\n",
    "\n",
    "#Linear SVM\n",
    "svm_clf = LinearSVC(random_state=0, tol=1e-5)\n",
    "svm_clf.fit(X, classes)\n",
    "\n",
    "\n",
    "true = [pol for text,pol in test]\n",
    "test_corpus = [text for text,pol in test]\n",
    "X_test = vectorizer.transform(test_corpus)\n",
    "\n",
    "pred_nb = nb_clf.predict(X_test)\n",
    "pred_lr = lr_clf.predict(X_test)\n",
    "pred_svm = svm_clf.predict(X_test)\n",
    "\n",
    "\n",
    "print(f\"Naïve Bayes accuracy: {accuracy_score(true, pred_nb)}\")\n",
    "print(f\"Logistic Regression accuracy: {accuracy_score(true, pred_lr)}\")\n",
    "print(f\"SVM accuracy: {accuracy_score(true, pred_svm)}\")"
   ]
  },
  {
   "cell_type": "code",
   "execution_count": 139,
   "metadata": {},
   "outputs": [
    {
     "name": "stderr",
     "output_type": "stream",
     "text": [
      "/Users/allaa/miniconda3/lib/python3.10/site-packages/sklearn/feature_extraction/text.py:409: UserWarning: Your stop_words may be inconsistent with your preprocessing. Tokenizing the stop words generated tokens ['etaient', 'etais', 'etait', 'etant', 'etante', 'etantes', 'etants', 'ete', 'etee', 'etees', 'etes', 'etiez', 'etions', 'eumes', 'eutes', 'fumes', 'futes', 'meme'] not in stop_words.\n",
      "  warnings.warn(\n"
     ]
    },
    {
     "name": "stdout",
     "output_type": "stream",
     "text": [
      "(25000, 10000)\n"
     ]
    },
    {
     "name": "stderr",
     "output_type": "stream",
     "text": [
      "/Users/allaa/miniconda3/lib/python3.10/site-packages/sklearn/linear_model/_logistic.py:458: ConvergenceWarning: lbfgs failed to converge (status=1):\n",
      "STOP: TOTAL NO. of ITERATIONS REACHED LIMIT.\n",
      "\n",
      "Increase the number of iterations (max_iter) or scale the data as shown in:\n",
      "    https://scikit-learn.org/stable/modules/preprocessing.html\n",
      "Please also refer to the documentation for alternative solver options:\n",
      "    https://scikit-learn.org/stable/modules/linear_model.html#logistic-regression\n",
      "  n_iter_i = _check_optimize_result(\n",
      "/Users/allaa/miniconda3/lib/python3.10/site-packages/sklearn/svm/_base.py:1244: ConvergenceWarning: Liblinear failed to converge, increase the number of iterations.\n",
      "  warnings.warn(\n"
     ]
    },
    {
     "name": "stdout",
     "output_type": "stream",
     "text": [
      "Naïve Bayes accuracy: 0.83872\n",
      "Logistic Regression accuracy: 0.85148\n",
      "SVM accuracy: 0.8228\n"
     ]
    }
   ],
   "source": [
    "#vectorizer = TfidfVectorizer(preprocessor=preprocess,stop_words=final_stopwords_list,use_idf= use_idf, smooth_idf=smooth_idf, sublinear_tf=sublinear_tf)\n",
    "vectorizer = CountVectorizer(preprocessor=preprocess,stop_words=final_stopwords_list,max_df=max_df,min_df=min_df,max_features=max_features) #try out some values\n",
    "\n",
    "X = vectorizer.fit_transform(corpus)\n",
    "print(X.shape)\n",
    "\n",
    "#Naïve Bayes\n",
    "nb_clf = MultinomialNB()\n",
    "nb_clf.fit(X, classes)\n",
    "\n",
    "#Logistic Regression\n",
    "lr_clf = LogisticRegression(random_state=0, solver='lbfgs',n_jobs=-1)\n",
    "lr_clf.fit(X, classes)\n",
    "\n",
    "#Linear SVM\n",
    "svm_clf = LinearSVC(random_state=0, tol=1e-5)\n",
    "svm_clf.fit(X, classes)\n",
    "\n",
    "\n",
    "true = [pol for text,pol in test]\n",
    "test_corpus = [text for text,pol in test]\n",
    "X_test = vectorizer.transform(test_corpus)\n",
    "\n",
    "pred_nb = nb_clf.predict(X_test)\n",
    "pred_lr = lr_clf.predict(X_test)\n",
    "pred_svm = svm_clf.predict(X_test)\n",
    "\n",
    "\n",
    "print(f\"Naïve Bayes accuracy: {accuracy_score(true, pred_nb)}\")\n",
    "print(f\"Logistic Regression accuracy: {accuracy_score(true, pred_lr)}\")\n",
    "print(f\"SVM accuracy: {accuracy_score(true, pred_svm)}\")"
   ]
  },
  {
   "cell_type": "markdown",
   "metadata": {},
   "source": [
    "# Visualizing features\n",
    "\n",
    "It can be interesting to find out which words are the most positive or negative for our models. To do so, you can simply look how each models weigth each features with respect to each class."
   ]
  },
  {
   "cell_type": "code",
   "execution_count": 140,
   "metadata": {},
   "outputs": [],
   "source": [
    "# we first build a dictionnary {id_feature : word} from our vectorizer\n",
    "features = {v:k for k,v in vectorizer.vocabulary_.items()} # invert mapping (k2v)\n"
   ]
  },
  {
   "cell_type": "markdown",
   "metadata": {},
   "source": [
    "### Naïve Bayes\n",
    "\n",
    "For the naïve bayes model, we can look directly at `p(word | class)`\n",
    "\n",
    "[MultinomialNB](http://scikit-learn.org/stable/modules/generated/sklearn.naive_bayes.MultinomialNB.html#sklearn.naive_bayes.MultinomialNB)\n",
    "\n",
    "- **feature_log_prob_**: array, shape (n_classes, n_features). Empirical log probability of features given a class, P(x_i|y)."
   ]
  },
  {
   "cell_type": "code",
   "execution_count": 155,
   "metadata": {},
   "outputs": [
    {
     "name": "stdout",
     "output_type": "stream",
     "text": [
      "['like', 'even', 'good', 'bad', 'would', 'really', 'time', 'see', 'story', 'much', 'get', 'people', 'make', 'could', 'made', 'first', 'well', 'plot', 'movies', 'acting', 'way', 'think', 'also', 'characters', 'watch', 'character', 'better', 'know', 'seen', 'ever', 'never', 'two', 'little', 'films', 'nothing', 'say', 'end', 'something', 'many', 'thing', 'show', 'scene', 'scenes', 'go', 'great', 'watching', 'man', 'worst', 'actually', 'actors']\n",
      "\n",
      "\n",
      "['like', 'good', 'story', 'time', 'great', 'well', 'see', 'also', 'really', 'would', 'even', 'first', 'much', 'people', 'best', 'love', 'get', 'life', 'way', 'made', 'films', 'many', 'two', 'think', 'movies', 'characters', 'character', 'man', 'show', 'watch', 'seen', 'little', 'still', 'make', 'could', 'never', 'know', 'years', 'ever', 'end', 'real', 'scene', 'back', 'though', 'new', 'go', 'acting', 'plot', 'world', 'scenes']\n"
     ]
    }
   ],
   "source": [
    "import numpy as np\n",
    "#Naïve bayes\n",
    "most_neg = [] # find the corresponding words\n",
    "most_pos = [] \n",
    "\n",
    "k = 50 # we want the 50 most negative and positive words\n",
    "\n",
    "# get list of negative class log probability\n",
    "feat_neg = nb_clf.feature_log_prob_[0]\n",
    "# same for positive\n",
    "feat_pos = nb_clf.feature_log_prob_[1]\n",
    "\n",
    "most_neg = [features[i] for i in np.argsort(-feat_neg)]\n",
    "most_pos = [features[i] for i in np.argsort(-feat_pos)]\n",
    "\n",
    "print(most_neg[:k])\n",
    "print('\\n')\n",
    "print(most_pos[:k])"
   ]
  },
  {
   "cell_type": "markdown",
   "metadata": {},
   "source": [
    "## Linear Models : Logistic Regression & SVM\n",
    "\n",
    "\n",
    "For linear models, we can look at feature coefficients:\n",
    " [Logistic Regression](http://scikit-learn.org/stable/modules/generated/sklearn.linear_model.LogisticRegression.html)\n",
    " \n",
    " \t\n",
    "- **coef_:** array, shape (1, n_features) or (n_classes, n_features). Coefficient of the features in the decision function. coef_ is of shape (1, n_features) when the given problem is binary. In particular, when multi_class=’multinomial’, coef_ corresponds to outcome 1 (True) and -coef_ corresponds to outcome 0 (False)."
   ]
  },
  {
   "cell_type": "code",
   "execution_count": 152,
   "metadata": {},
   "outputs": [
    {
     "name": "stdout",
     "output_type": "stream",
     "text": [
      "['disappointment', 'waste', 'worst', 'poorly', 'baldwin', 'unfunny', 'lacks', 'forgettable', 'awful', 'alright', 'photo', 'generous', 'refer', 'mstk', 'dreadful', 'boredom', 'mess', 'disappointing', 'unwatchable', 'mediocre', 'sources', 'laughable', 'belle', 'wayans', 'lousy', 'britney', 'unremarkable', 'insult', 'avoid', 'mildly', 'stupidity', 'thunderbirds', 'boring', 'lifeless', 'uninteresting', 'horrible', 'fails', 'worse', 'vanessa', 'tunnel', 'gain', 'hype', 'obnoxious', 'unlikeable', 'ludicrous', 'crappy', 'pointless', 'solely', 'profile', 'wilderness']\n",
      "\n",
      "\n",
      "['refreshing', 'vengeance', 'cerebral', 'funniest', 'flawless', 'wonderfully', 'kitty', 'hooked', 'kurosawa', 'erotic', 'appreciated', 'carrey', 'superb', 'scariest', 'shannon', 'delightful', 'bound', 'whoopi', 'mj', 'highly', 'surprisingly', 'fashioned', 'underrated', 'driven', 'wrenching', 'rare', 'perfect', 'perfectly', 'existed', 'excellent', 'greene', 'haunting', 'incredible', 'marvelous', 'smiling', 'hong', 'natali', 'cheers', 'subtitles', 'showdown', 'surpasses', 'hoot', 'steals', 'enjoyable', 'eerie', 'subtle', 'longoria', 'weaknesses', 'australia', 'lucas']\n"
     ]
    }
   ],
   "source": [
    "#Logistic Regression\n",
    "k = 50 # we want the 50 most negative and positive words\n",
    "feat = lr_clf.coef_[0] \n",
    "\n",
    "most_neg = [features[i] for i in np.argsort(feat)]\n",
    "most_pos = [features[i] for i in np.argsort(-feat)]\n",
    "\n",
    "print(most_neg[:k])\n",
    "print('\\n')\n",
    "print(most_pos[:k])"
   ]
  },
  {
   "cell_type": "code",
   "execution_count": 156,
   "metadata": {},
   "outputs": [
    {
     "name": "stdout",
     "output_type": "stream",
     "text": [
      "['baldwin', 'photo', 'generous', 'disappointment', 'huston', 'tunnel', 'refer', 'solely', 'waste', 'darkest', 'crow', 'worst', 'poorly', 'dreadful', 'sources', 'unfunny', 'uninspired', 'choose', 'superstar', 'unremarkable', 'seed', 'wayans', 'belle', 'forgettable', 'unlikeable', 'stares', 'alright', 'pornography', 'miscast', 'unwatchable', 'insult', 'trite', 'retrospect', 'lifeless', 'sentiment', 'smarmy', 'distinctly', 'greenaway', 'gain', 'stupidity', 'lousy', 'wilderness', 'pistol', 'profile', 'judging', 'crappy', 'irwin', 'tolerable', 'mediocre', 'midget']\n",
      "\n",
      "\n",
      "['cerebral', 'refreshing', 'hong', 'kitty', 'scariest', 'apocalyptic', 'carrey', 'vengeance', 'gangs', 'overt', 'cycle', 'joyous', 'showdown', 'greene', 'rewarded', 'flawless', 'bound', 'funniest', 'disappoint', 'understands', 'existing', 'goof', 'appreciated', 'eerie', 'kiddie', 'shannon', 'wrenching', 'lately', 'respectable', 'deciding', 'erotic', 'sharing', 'longoria', 'waited', 'disorder', 'kurosawa', 'targeted', 'approached', 'hoot', 'fantastically', 'graduate', 'lucas', 'stance', 'weaknesses', 'australia', 'izzard', 'fashioned', 'meadows', 'someday', 'comprehend']\n"
     ]
    }
   ],
   "source": [
    "#SVM\n",
    "k = 50 # we want the 50 most negative and positive words\n",
    "feat = svm_clf.coef_[0]\n",
    "\n",
    "most_neg = [features[i] for i in np.argsort(feat)]\n",
    "most_pos = [features[i] for i in np.argsort(-feat)]\n",
    "\n",
    "print(most_neg[:k])\n",
    "print('\\n')\n",
    "print(most_pos[:k])"
   ]
  },
  {
   "cell_type": "markdown",
   "metadata": {},
   "source": [
    "\n",
    "\n",
    "------------------------\n",
    "## **(bonus:)**  [make word clouds !](https://github.com/amueller/word_cloud)\n",
    "\n",
    "### Installation\n",
    "If you are using pip:\n",
    "\n",
    "`pip install wordcloud`\n",
    "\n",
    "### If you are using conda, you can install from the conda-forge channel:\n",
    "\n",
    "`conda install -c conda-forge wordcloud`\n"
   ]
  },
  {
   "cell_type": "code",
   "execution_count": 164,
   "metadata": {},
   "outputs": [
    {
     "ename": "ImportError",
     "evalue": "cannot import name 'WorldCloud' from 'wordcloud' (/Users/allaa/miniconda3/lib/python3.10/site-packages/wordcloud/__init__.py)",
     "output_type": "error",
     "traceback": [
      "\u001b[0;31m---------------------------------------------------------------------------\u001b[0m",
      "\u001b[0;31mImportError\u001b[0m                               Traceback (most recent call last)",
      "Cell \u001b[0;32mIn[164], line 1\u001b[0m\n\u001b[0;32m----> 1\u001b[0m \u001b[38;5;28;01mfrom\u001b[39;00m \u001b[38;5;21;01mwordcloud\u001b[39;00m \u001b[38;5;28;01mimport\u001b[39;00m WorldCloud\n\u001b[1;32m      2\u001b[0m \u001b[38;5;28;01mimport\u001b[39;00m \u001b[38;5;21;01mmatplotlib\u001b[39;00m\u001b[38;5;21;01m.\u001b[39;00m\u001b[38;5;21;01mpyplot\u001b[39;00m \u001b[38;5;28;01mas\u001b[39;00m \u001b[38;5;21;01mplt\u001b[39;00m\n\u001b[1;32m      5\u001b[0m \u001b[38;5;66;03m# Get text:\u001b[39;00m\n",
      "\u001b[0;31mImportError\u001b[0m: cannot import name 'WorldCloud' from 'wordcloud' (/Users/allaa/miniconda3/lib/python3.10/site-packages/wordcloud/__init__.py)"
     ]
    }
   ],
   "source": [
    "from wordcloud import WorldCloud\n",
    "import matplotlib.pyplot as plt\n",
    "\n",
    "\n",
    "# Get text:\n",
    "text = \"this is exemple text\"\n",
    "\n",
    "# Generate a word cloud image\n",
    "wordcloud = WordCloud().generate(text)\n",
    "\n",
    "# Display the generated image:\n",
    "# the matplotlib way:\n",
    "plt.imshow(wordcloud, interpolation='bilinear')\n",
    "plt.axis(\"off\")\n"
   ]
  },
  {
   "cell_type": "markdown",
   "metadata": {},
   "source": [
    "\n"
   ]
  }
 ],
 "metadata": {
  "kernelspec": {
   "display_name": "Python 3 (ipykernel)",
   "language": "python",
   "name": "python3"
  },
  "language_info": {
   "codemirror_mode": {
    "name": "ipython",
    "version": 3
   },
   "file_extension": ".py",
   "mimetype": "text/x-python",
   "name": "python",
   "nbconvert_exporter": "python",
   "pygments_lexer": "ipython3",
   "version": "3.10.8"
  }
 },
 "nbformat": 4,
 "nbformat_minor": 2
}
